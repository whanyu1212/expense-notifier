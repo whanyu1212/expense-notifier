{
 "cells": [
  {
   "cell_type": "code",
   "execution_count": 1,
   "metadata": {},
   "outputs": [],
   "source": [
    "import expense_notify"
   ]
  },
  {
   "cell_type": "code",
   "execution_count": 2,
   "metadata": {},
   "outputs": [
    {
     "name": "stdout",
     "output_type": "stream",
     "text": [
      "\n",
      "\n",
      "\u001b[1m> Entering new AgentExecutor chain...\u001b[0m\n",
      "\u001b[32;1m\u001b[1;3m\n",
      "Invoking: `python_repl_ast` with `{'query': \"import pandas as pd\\nfrom datetime import datetime, timedelta\\n\\ndf['start'] = pd.to_datetime(df['start'])\\nstart_date = datetime.today() - timedelta(days=7)\\nfiltered_df = df[df['start'] >= start_date]\\nfiltered_df\"}`\n",
      "responded: To analyze the expenses for the past 7 days, we need to filter the dataframe `df` to include only the expenses from the past 7 days. Then, we can calculate the total expenses, expenses by category, and identify the big ticket items relative to the total expenses.\n",
      "\n",
      "Here's how we can do this:\n",
      "\n",
      "1. Filter the dataframe for expenses from the past 7 days.\n",
      "2. Calculate the total expenses.\n",
      "3. Calculate expenses by category.\n",
      "4. Identify the big ticket items relative to the total expenses.\n",
      "\n",
      "Let's start by filtering the dataframe for expenses from the past 7 days:\n",
      "\n",
      "\u001b[0m\u001b[36;1m\u001b[1;3m   amount  category               item      start\n",
      "0   40.00  Shopping  Drone landing pad 2024-06-29\n",
      "1   67.74      Food             Dinner 2024-06-29\n",
      "2   38.10  Clothing       Undergarment 2024-06-29\n",
      "3    8.10      Food             Coffee 2024-06-29\u001b[0m\u001b[32;1m\u001b[1;3m\n",
      "Invoking: `python_repl_ast` with `{'query': \"total_expenses = filtered_df['amount'].sum()\\nexpenses_by_category = filtered_df.groupby('category')['amount'].sum()\\n(total_expenses, expenses_by_category)\"}`\n",
      "responded: The expenses from the past 7 days are as follows:\n",
      "\n",
      "|    |   amount | category   | item              | start      |\n",
      "|---:|---------:|:-----------|:------------------|:-----------|\n",
      "|  0 |    40    | Shopping   | Drone landing pad | 2024-06-29 |\n",
      "|  1 |    67.74 | Food       | Dinner            | 2024-06-29 |\n",
      "|  2 |    38.1  | Clothing   | Undergarment      | 2024-06-29 |\n",
      "|  3 |     8.1  | Food       | Coffee            | 2024-06-29 |\n",
      "\n",
      "Next, let's calculate the total expenses and expenses by category:\n",
      "\n",
      "\u001b[0m\u001b[36;1m\u001b[1;3m(153.94, category\n",
      "Clothing    38.10\n",
      "Food        75.84\n",
      "Shopping    40.00\n",
      "Name: amount, dtype: float64)\u001b[0m\u001b[32;1m\u001b[1;3m\n",
      "Invoking: `python_repl_ast` with `{'query': \"threshold_percentage = 0.2\\nbig_ticket_items = filtered_df[filtered_df['amount'] > total_expenses * threshold_percentage]\\nbig_ticket_items\"}`\n",
      "responded: The analysis of expenses for the past 7 days is as follows:\n",
      "\n",
      "- Total Expenses: $153.94\n",
      "- Expenses by Category:\n",
      "  - Clothing: $38.10\n",
      "  - Food: $75.84\n",
      "  - Shopping: $40.00\n",
      "\n",
      "Next, let's identify the big ticket items relative to the total expenses. We can consider items that are above a certain percentage of the total expenses as big ticket items. Let's say we consider items above 20% of the total expenses as big ticket items.\n",
      "\n",
      "\u001b[0m\u001b[36;1m\u001b[1;3m   amount  category               item      start\n",
      "0   40.00  Shopping  Drone landing pad 2024-06-29\n",
      "1   67.74      Food             Dinner 2024-06-29\n",
      "2   38.10  Clothing       Undergarment 2024-06-29\u001b[0m\u001b[32;1m\u001b[1;3mThe big ticket items relative to the total expenses (items above 20% of the total expenses) are:\n",
      "\n",
      "1. Shopping: Drone landing pad - $40.00\n",
      "2. Food: Dinner - $67.74\n",
      "\n",
      "These items are considered big ticket items based on the threshold percentage of 20% of the total expenses.\n",
      "\n",
      "If you have any more questions or need further analysis, feel free to ask!\u001b[0m\n",
      "\n",
      "\u001b[1m> Finished chain.\u001b[0m\n",
      "Message sent successfully\n"
     ]
    }
   ],
   "source": [
    "expense_notify.run_expense_notify()"
   ]
  }
 ],
 "metadata": {
  "kernelspec": {
   "display_name": "expense-notify-ID3B76G0-py3.12",
   "language": "python",
   "name": "python3"
  },
  "language_info": {
   "codemirror_mode": {
    "name": "ipython",
    "version": 3
   },
   "file_extension": ".py",
   "mimetype": "text/x-python",
   "name": "python",
   "nbconvert_exporter": "python",
   "pygments_lexer": "ipython3",
   "version": "3.12.2"
  }
 },
 "nbformat": 4,
 "nbformat_minor": 2
}
